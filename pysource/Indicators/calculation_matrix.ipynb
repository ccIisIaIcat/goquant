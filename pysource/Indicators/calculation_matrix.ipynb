{
 "cells": [
  {
   "cell_type": "code",
   "execution_count": 163,
   "id": "5aa7ff51",
   "metadata": {},
   "outputs": [],
   "source": [
    "import pandas as pd \n",
    "import numpy as np\n",
    "from scipy import stats"
   ]
  },
  {
   "cell_type": "markdown",
   "id": "e7bcb403",
   "metadata": {},
   "source": [
    "###### 数据读取和预处理"
   ]
  },
  {
   "cell_type": "code",
   "execution_count": 3,
   "id": "5f6ce466",
   "metadata": {},
   "outputs": [],
   "source": [
    "df = pd.read_csv(\"../data/ag2302.csv\")"
   ]
  },
  {
   "cell_type": "code",
   "execution_count": 9,
   "id": "f861d51d",
   "metadata": {},
   "outputs": [],
   "source": [
    "df[\"time_gap\"] = df[\"ts\"] - df[\"ts\"].shift(1)"
   ]
  },
  {
   "cell_type": "code",
   "execution_count": 20,
   "id": "b0ed612b",
   "metadata": {},
   "outputs": [
    {
     "name": "stdout",
     "output_type": "stream",
     "text": [
      "23\n"
     ]
    }
   ],
   "source": [
    "temp_list = df[\"time_gap\"]\n",
    "signal_list = []\n",
    "for i in range(len(temp_list)):\n",
    "    if temp_list[i] > 5000:\n",
    "        signal_list.append(i)\n",
    "        \n",
    "df_list = []\n",
    "\n",
    "for i in range(1,len(signal_list)):\n",
    "    if signal_list[i] - signal_list[i-1] > 1000 :\n",
    "        temp_df = df.iloc[signal_list[i-1]+1:signal_list[i]]\n",
    "        temp_df = temp_df.reset_index(drop = True)\n",
    "        if len(temp_df) > 3000:\n",
    "            df_list.append(temp_df)\n",
    "\n",
    "print(len(df_list))"
   ]
  },
  {
   "cell_type": "markdown",
   "id": "26f49895",
   "metadata": {},
   "source": [
    "# ----------------------------------------------------------------------------------------------------------------"
   ]
  },
  {
   "cell_type": "markdown",
   "id": "e5eacbf1",
   "metadata": {},
   "source": [
    "<center><font size=5>Intro<font><center>\n",
    "<font size=3> -该脚本用于计算在不同止盈止损价格下，在指定样本中的胜率，和自定义敞口价差下的收益率,以及结果的二项检验p值<font><br/>\n",
    "<font size=3> -可以先计算胜率或收益矩阵，再依据策略在样本中进行挑选，在通过矩阵做差检验策略的有效性和合理的止损止盈价格<font><br/>\n",
    "<font size=3> -该计算过程建议在小波动止盈止损下使用，因为当止盈止损价差时，可能导致大量回测样本在同一点平仓，影响统计显著性<font>"
   ]
  },
  {
   "cell_type": "markdown",
   "id": "37c190d6",
   "metadata": {},
   "source": [
    "# ----------------------------------------------------------------------------------------------------------------"
   ]
  },
  {
   "cell_type": "markdown",
   "id": "1bb45aac",
   "metadata": {},
   "source": [
    "###### 计算信息矩阵"
   ]
  },
  {
   "cell_type": "markdown",
   "id": "c8073c7d",
   "metadata": {},
   "source": [
    "<font size=4 face=\"黑体\">止盈止损标记矩阵</font>\n",
    "<br/>\n",
    "<font size=3 face=\"黑体\">（用于标记成交对的止盈止损情况）</font>\n",
    "<center>$\\begin{pmatrix}\n",
    "  A_{p1}B_{p1} & A_{p1}B_{p2} & A_{p1}B_{p3} & A_{p1}B_{p4} & A_{p1}B_{p5}\\\\   \n",
    "  A_{p2}B_{p1} & A_{p2}B_{p2} & A_{p2}B_{p3} & A_{p2}B_{p4} & A_{p2}B_{p5}\\\\\n",
    "  A_{p3}B_{p1} & A_{p3}B_{p2} & A_{p3}B_{p3} & A_{p3}B_{p4} & A_{p3}B_{p5}\\\\\n",
    "  A_{p4}B_{p1} & A_{p4}B_{p2} & A_{p4}B_{p3} & A_{p4}B_{p4} & A_{p4}B_{p5}\\\\\n",
    "  A_{p5}B_{p1} & A_{p5}B_{p2} & A_{p5}B_{p3} & A_{p5}B_{p4} & A_{p5}B_{p5}\n",
    " \\end{pmatrix}$<center>\n",
    " <br/>\n",
    " <center>$A_{pi}B_{pj}$表示以$p_{i}$为止盈，$p_{j}$为止损的交易对的成交情况<center>\n",
    " <br/>\n",
    " <center>具体的，1为止盈，-1为止损，0为未发生成交<center>\n",
    " <br/>\n",
    " \n",
    " <font size=4 face=\"黑体\">成交标记矩阵</font>\n",
    " <br/>\n",
    "<font size=3 face=\"黑体\">（用于标记成交对的是否有成交情况）</font>\n",
    "<center>$\\begin{pmatrix}\n",
    "  Mark(A_{p1}B_{p1}) & Mark(A_{p1}B_{p2}) & Mark(A_{p1}B_{p3}) & Mark(A_{p1}B_{p4} & A_{p1}B_{p5})\\\\   \n",
    "  Mark(A_{p2}B_{p1}) & Mark(A_{p2}B_{p2}) & Mark(A_{p2}B_{p3}) & Mark(A_{p2}B_{p4} & A_{p2}B_{p5})\\\\\n",
    "  Mark(A_{p3}B_{p1}) & Mark(A_{p3}B_{p2}) & Mark(A_{p3}B_{p3}) & Mark(A_{p3}B_{p4} & A_{p3}B_{p5})\\\\\n",
    "  Mark(A_{p4}B_{p1}) & Mark(A_{p4}B_{p2}) & Mark(A_{p4}B_{p3}) & Mark(A_{p4}B_{p4} & A_{p4}B_{p5})\\\\\n",
    "  Mark(A_{p5}B_{p1}) & Mark(A_{p5}B_{p2}) & Mark(A_{p5}B_{p3}) & Mark(A_{p5}B_{p4} & A_{p5}B_{p5})\n",
    " \\end{pmatrix}$<center>\n",
    " <br/>\n",
    " <center>$A_{pi}B_{pj}$数据流结束前是否有成交<center>\n",
    " <br/>\n",
    " <center>具体的，1为有成交，0为在当前数据流中未发生该交易对的成交<center>\n",
    " <br/>\n",
    "    "
   ]
  },
  {
   "cell_type": "markdown",
   "id": "0ef00ede",
   "metadata": {},
   "source": [
    "# ----------------------------------------------------------------------------------------------------------------"
   ]
  },
  {
   "cell_type": "markdown",
   "id": "92178998",
   "metadata": {},
   "source": [
    "快速计算session中每个矩阵指标的方法：\n",
    "<br/>\n",
    "1、生成 每个价格的位置序列 的对应hashmap<br/>\n",
    "2、对每i时间节点，对矩阵中的每个量价对，寻找对应价格的第一个id，判断并填充矩阵<br/>\n",
    "3、对自身量价节点的对应序列进行更新（删除对应第一个id）<br/>\n",
    "4、重复步骤2<br/>\n",
    "\n",
    "PS：所有操作基于单一列表进行"
   ]
  },
  {
   "cell_type": "markdown",
   "id": "61deedc5",
   "metadata": {},
   "source": [
    "# ----------------------------------------------------------------------------------------------------------------"
   ]
  },
  {
   "cell_type": "markdown",
   "id": "93212898",
   "metadata": {},
   "source": [
    " <font size=4 face=\"黑体\">测试止盈止损tick量价选择(单位：合约最小单位)</font>\n",
    "     \n",
    " | p1 | p2 | p3 | p2 | p3 |\n",
    "| :-----:| :----: | :----: |:----: | :----: |\n",
    "| 2 | 3 | 4 |5 | 6 |"
   ]
  },
  {
   "cell_type": "code",
   "execution_count": 139,
   "id": "b50635b1",
   "metadata": {},
   "outputs": [],
   "source": [
    "TICK_UNIT = 1"
   ]
  },
  {
   "cell_type": "code",
   "execution_count": 140,
   "id": "81898a74",
   "metadata": {},
   "outputs": [],
   "source": [
    "# price_map = {0:2*TICK_UNIT,1:3*TICK_UNIT,2:4*TICK_UNIT,3:5*TICK_UNIT,4:6*TICK_UNIT,5:7*TICK_UNIT,6:8*TICK_UNIT,7:9*TICK_UNIT,8:10*TICK_UNIT,9:11*TICK_UNIT}\n",
    "price_map = {0:2*TICK_UNIT,1:3*TICK_UNIT,2:4*TICK_UNIT,3:5*TICK_UNIT,4:6*TICK_UNIT}\n",
    "DISTANCE = float('+inf') # 自定义距离，若交易节点和当前节点的距离大于该值则不成交\n",
    "# DISTANCE = 1000"
   ]
  },
  {
   "cell_type": "code",
   "execution_count": 141,
   "id": "974d4f8f",
   "metadata": {},
   "outputs": [],
   "source": [
    "# 1、生成对应hashmap\n",
    "def GetHash(target_list):\n",
    "    answer_map = {}\n",
    "    for i in range(len(target_list)):\n",
    "        if target_list[i] in answer_map:\n",
    "            answer_map[target_list[i]].append(i) \n",
    "        else:\n",
    "            answer_map[target_list[i]] = [i]\n",
    "    return answer_map\n",
    "\n",
    "# 2、多头矩阵生成\n",
    "def GetMatrixLong(price):\n",
    "    winlose_matrix = np.zeros((len(price_map),len(price_map)))\n",
    "    complete_matrix = np.zeros((len(price_map),len(price_map)))\n",
    "    for i in range(len(price_map)):\n",
    "        for j in range(len(price_map)):\n",
    "            winprice = price + price_map[i]\n",
    "            loseprice = price - price_map[j]\n",
    "            winid = float('+inf')\n",
    "            loseid = float('+inf')\n",
    "            if winprice in tool_map:\n",
    "                if tool_map[winprice][0]-tool_map[price][0] < DISTANCE:\n",
    "                    winid = tool_map[winprice][0]\n",
    "            if loseprice in tool_map:\n",
    "                if tool_map[loseprice][0]-tool_map[price][0] < DISTANCE:\n",
    "                    loseid = tool_map[loseprice][0]\n",
    "            if winid < loseid:\n",
    "                winlose_matrix[i][j] = 1\n",
    "                complete_matrix[i][j] = 1\n",
    "            elif winid > loseid:\n",
    "                winlose_matrix[i][j] = -1\n",
    "                complete_matrix[i][j] = 1\n",
    "    # 更新toolmap\n",
    "    if len(tool_map[price]) == 1:\n",
    "        del tool_map[price]\n",
    "    else:\n",
    "        tool_map[price] = tool_map[price][1:]\n",
    "    return winlose_matrix,complete_matrix\n",
    "\n",
    "# 空头矩阵生成\n",
    "def GetMatrixShort(price):\n",
    "    winlose_matrix = np.zeros((len(price_map),len(price_map)))\n",
    "    complete_matrix = np.zeros((len(price_map),len(price_map)))\n",
    "    for i in range(len(price_map)):\n",
    "        for j in range(len(price_map)):\n",
    "            winprice = price - price_map[i]\n",
    "            loseprice = price + price_map[j]\n",
    "            winid = float('+inf')\n",
    "            loseid = float('+inf')\n",
    "            if winprice in tool_map:\n",
    "                if tool_map[winprice][0]-tool_map[price][0] < DISTANCE:\n",
    "                    winid = tool_map[winprice][0]\n",
    "            if loseprice in tool_map:\n",
    "                if tool_map[loseprice][0]-tool_map[price][0] < DISTANCE:\n",
    "                    loseid = tool_map[loseprice][0]\n",
    "            if winid < loseid:\n",
    "                winlose_matrix[i][j] = 1\n",
    "                complete_matrix[i][j] = 1\n",
    "            elif winid > loseid:\n",
    "                winlose_matrix[i][j] = -1\n",
    "                complete_matrix[i][j] = 1\n",
    "    # 更新toolmap\n",
    "    if len(tool_map[price]) == 1:\n",
    "        del tool_map[price]\n",
    "    else:\n",
    "        tool_map[price] = tool_map[price][1:]\n",
    "    return winlose_matrix,complete_matrix\n",
    "\n",
    "# 计算对应列表信息矩阵\n",
    "def get_matrix_info(target_list,LongShort):\n",
    "    p_matrix_list = []\n",
    "    c_matrix_list = []\n",
    "    if LongShort == \"long\":\n",
    "        for id_ in range(len(target_list)):\n",
    "            price = target_list[id_]\n",
    "            p,c = GetMatrixLong(price)\n",
    "            p_matrix_list.append(p)\n",
    "            c_matrix_list.append(c)\n",
    "    elif LongShort == \"short\":\n",
    "        for id_ in range(len(target_list)):\n",
    "            price = target_list[id_]\n",
    "            p,c = GetMatrixLong(price)\n",
    "            p_matrix_list.append(p)\n",
    "            c_matrix_list.append(c)\n",
    "    return p_matrix_list,c_matrix_list"
   ]
  },
  {
   "cell_type": "code",
   "execution_count": 150,
   "id": "13b6e42b",
   "metadata": {},
   "outputs": [
    {
     "name": "stdout",
     "output_type": "stream",
     "text": [
      "sample_length: 36629\n"
     ]
    }
   ],
   "source": [
    "# test\n",
    "target_list = df_list[4][\"Bp\"]\n",
    "print(\"sample_length:\",len(target_list))\n",
    "tool_map = GetHash(target_list)\n",
    "p,c = get_matrix_info(target_list,\"long\")"
   ]
  },
  {
   "cell_type": "code",
   "execution_count": 151,
   "id": "0d8edf3a",
   "metadata": {},
   "outputs": [
    {
     "data": {
      "text/plain": [
       "array([[-1., -1., -1., -1., -1.],\n",
       "       [-1., -1., -1., -1., -1.],\n",
       "       [-1., -1., -1., -1., -1.],\n",
       "       [-1., -1., -1., -1., -1.],\n",
       "       [-1., -1., -1., -1., -1.]])"
      ]
     },
     "execution_count": 151,
     "metadata": {},
     "output_type": "execute_result"
    }
   ],
   "source": [
    "p[0]"
   ]
  },
  {
   "cell_type": "markdown",
   "id": "01f23332",
   "metadata": {},
   "source": [
    "###### 统计信息生成"
   ]
  },
  {
   "cell_type": "markdown",
   "id": "cd05a8e4",
   "metadata": {},
   "source": [
    "<center><font size=4 face=\"黑体\">计算指定矩阵集合不同交易对下的胜率和收益期望（自定义敞口价差）</font><center>\n",
    "<br/>\n",
    "<center>对于选择出的节点的信息矩阵<center>\n",
    "<center><font size=3>$\\{M_{pi}\\},i=0,2...N ;\\ \\{M_{ci}\\},i=0,2...N$</font><center>\n",
    "<br/>\n",
    "<center>进行累加求和：<center>\n",
    "<center><font size=3>$M_{sump}=\\sum_{i=0}^NM_{pi};\\ M_{sumc}=\\sum_{i=0}^NM_{ci}$</font><center>\n",
    "<br/>\n",
    "<center>计算止盈频率：<center>\n",
    "<center><font size=4>$M_{winprob}=\\frac{M_{sump}+M_{sumc}}{2 M_{sumc}}$</font><center>\n",
    "<center>(此处矩阵的除法为对应元素相除)<center>\n",
    "<br/>\n",
    "<center>计算频率收益：<center>\n",
    "<center><font size=3>$M_{E[profit]}[i][j]=P[i]*M_{winprob}[i][j]-P[j]*(1-M_{winprob}[i][j])$</font><center>\n",
    " "
   ]
  },
  {
   "cell_type": "code",
   "execution_count": 152,
   "id": "716533c3",
   "metadata": {},
   "outputs": [],
   "source": [
    "def GetStatisticInfo(p,c,gap_price):\n",
    "    # 矩阵求和\n",
    "    Msump = np.zeros((len(price_map),len(price_map)))\n",
    "    Msumc = np.zeros((len(price_map),len(price_map)))\n",
    "    for i in range(len(p)):\n",
    "        Msump += p[i]\n",
    "        Msumc += c[i]\n",
    "    # 计算止盈频率\n",
    "    M_winprob = (Msump+Msumc)/(2*Msumc)\n",
    "    # 计算期望收益（自定义敞口价差）\n",
    "    M_Eprofit = np.zeros((len(price_map),len(price_map)))\n",
    "    for i in range(len(price_map)):\n",
    "        for j in range(len(price_map)):\n",
    "            M_Eprofit[i][j] = price_map[i]*M_winprob[i][j] - price_map[j]*(1-M_winprob[i][j])-1\n",
    "    return M_winprob,M_Eprofit,Msumc"
   ]
  },
  {
   "cell_type": "code",
   "execution_count": 153,
   "id": "550c564f",
   "metadata": {},
   "outputs": [],
   "source": [
    "M_winprob,M_Eprofit,Msumc = GetStatisticInfo(p,c,1)"
   ]
  },
  {
   "cell_type": "code",
   "execution_count": 154,
   "id": "67ecfb14",
   "metadata": {},
   "outputs": [
    {
     "data": {
      "text/plain": [
       "array([[0.53105955, 0.62479845, 0.68372004, 0.72244541, 0.75155093],\n",
       "       [0.45261201, 0.55334737, 0.6105902 , 0.65118504, 0.67209258],\n",
       "       [0.41539976, 0.5061249 , 0.56187794, 0.58967257, 0.61844777],\n",
       "       [0.36240044, 0.44616863, 0.49046022, 0.52241646, 0.54762693],\n",
       "       [0.31755603, 0.39285319, 0.43593007, 0.46312635, 0.48880991]])"
      ]
     },
     "execution_count": 154,
     "metadata": {},
     "output_type": "execute_result"
    }
   ],
   "source": [
    "M_winprob"
   ]
  },
  {
   "cell_type": "code",
   "execution_count": 155,
   "id": "316c8973",
   "metadata": {},
   "outputs": [
    {
     "data": {
      "text/plain": [
       "array([[-0.8757618 , -0.87600776, -0.89767976, -0.94288213, -0.98759258],\n",
       "       [-0.73693994, -0.6799158 , -0.72586862, -0.79051967, -0.9511668 ],\n",
       "       [-0.50760144, -0.45712567, -0.50497648, -0.69294685, -0.81552226],\n",
       "       [-0.46319692, -0.43065092, -0.58585803, -0.77583545, -0.97610375],\n",
       "       [-0.45955174, -0.46432125, -0.64069935, -0.90561012, -1.13428111]])"
      ]
     },
     "execution_count": 155,
     "metadata": {},
     "output_type": "execute_result"
    }
   ],
   "source": [
    "M_Eprofit"
   ]
  },
  {
   "cell_type": "code",
   "execution_count": 156,
   "id": "32689aaf",
   "metadata": {},
   "outputs": [
    {
     "data": {
      "text/plain": [
       "array([[36591., 36591., 36591., 36591., 36591.],\n",
       "       [36581., 36581., 36581., 36581., 36553.],\n",
       "       [36572., 36572., 36572., 36466., 36438.],\n",
       "       [36410., 36410., 36374., 36268., 36240.],\n",
       "       [36318., 36184., 36148., 36042., 36014.]])"
      ]
     },
     "execution_count": 156,
     "metadata": {},
     "output_type": "execute_result"
    }
   ],
   "source": [
    "Msumc"
   ]
  },
  {
   "cell_type": "markdown",
   "id": "dcf6411b",
   "metadata": {},
   "source": [
    "###### 二项分布假设检验p值"
   ]
  },
  {
   "cell_type": "markdown",
   "id": "a0885807",
   "metadata": {},
   "source": [
    "<font size=4 face=\"黑体\">计算结果置信水平：<font>\n",
    "<br/>\n",
    "<font size=3>假设每一组交易对在样本内进行二项分布检验，计算对应p值<font>\n",
    "<br/>\n",
    "<font size=3>PS:使用外部样本评价，或子样本抽样评价<font>"
   ]
  },
  {
   "cell_type": "code",
   "execution_count": 168,
   "id": "96918a02",
   "metadata": {},
   "outputs": [],
   "source": [
    "def get_p_value_matrix(p_sample,M_winprob):\n",
    "    p_value_matrix = np.zeros((len(price_map),len(price_map)))\n",
    "\n",
    "    sample_list = []\n",
    "    for i in range(len(price_map)):\n",
    "        temp = []\n",
    "        for j in range(len(price_map)):\n",
    "            temp.append([])\n",
    "        sample_list.append(temp)\n",
    "\n",
    "    for i in range(len(p_sample)):\n",
    "        for a in range(len(price_map)):\n",
    "            for b in range(len(price_map)):\n",
    "                sample_list[a][b].append(p[i][a][b])\n",
    "\n",
    "    for i in range(len(price_map)):\n",
    "        for j in range(len(price_map)):\n",
    "            sample_temp = sample_list[i][j]\n",
    "            x = int((np.sum(sample_temp) + len(sample_temp))/2)\n",
    "            p_value_matrix[i][j] = stats.binom_test(x, n=len(sample_temp), p=M_winprob[i][j], alternative='greater')\n",
    "    \n",
    "    return p_value_matrix\n",
    "        \n",
    "    "
   ]
  },
  {
   "cell_type": "code",
   "execution_count": 169,
   "id": "63b930e9",
   "metadata": {},
   "outputs": [],
   "source": [
    "p_value_matrix = get_p_value_matrix(p_sample,M_winprob)"
   ]
  },
  {
   "cell_type": "code",
   "execution_count": 170,
   "id": "efdd5c68",
   "metadata": {},
   "outputs": [
    {
     "data": {
      "text/plain": [
       "array([[1.        , 1.        , 1.        , 1.        , 1.        ],\n",
       "       [1.        , 0.99999997, 0.99999997, 0.99979017, 0.97233061],\n",
       "       [1.        , 1.        , 0.99999983, 0.78326599, 0.3719954 ],\n",
       "       [1.        , 1.        , 0.99999962, 0.81087613, 0.96288167],\n",
       "       [1.        , 0.99999724, 0.98371688, 0.98819324, 0.9992819 ]])"
      ]
     },
     "execution_count": 170,
     "metadata": {},
     "output_type": "execute_result"
    }
   ],
   "source": [
    "p_value_matrix"
   ]
  }
 ],
 "metadata": {
  "kernelspec": {
   "display_name": "Python 3 (ipykernel)",
   "language": "python",
   "name": "python3"
  },
  "language_info": {
   "codemirror_mode": {
    "name": "ipython",
    "version": 3
   },
   "file_extension": ".py",
   "mimetype": "text/x-python",
   "name": "python",
   "nbconvert_exporter": "python",
   "pygments_lexer": "ipython3",
   "version": "3.9.13"
  }
 },
 "nbformat": 4,
 "nbformat_minor": 5
}
