{
 "cells": [
  {
   "cell_type": "markdown",
   "id": "8b742455",
   "metadata": {},
   "source": [
    "# Import Packgae"
   ]
  },
  {
   "cell_type": "code",
   "execution_count": null,
   "id": "763e19cb",
   "metadata": {},
   "outputs": [],
   "source": [
    "%reload_ext autoreload\n",
    "%autoreload 2"
   ]
  },
  {
   "cell_type": "code",
   "execution_count": null,
   "id": "de6fe96b",
   "metadata": {},
   "outputs": [],
   "source": [
    "import os\n",
    "import sys\n",
    "import numpy as np\n",
    "import pandas as pd\n",
    "from tqdm import notebook\n",
    "\n",
    "\n",
    "import talib as ta\n",
    "import lightgbm as lgb\n",
    "from sklearn.linear_model import LinearRegression\n",
    "from sklearn.metrics import mean_squared_error\n",
    "\n",
    "from pyecharts import options as opts\n",
    "from pyecharts.commons.utils import JsCode\n",
    "from pyecharts.charts import Line, Bar, Grid, Kline, Scatter"
   ]
  },
  {
   "cell_type": "code",
   "execution_count": null,
   "id": "43371348",
   "metadata": {},
   "outputs": [],
   "source": [
    "# from pyecharts.globals import CurrentConfig, OnlineHostType\n",
    "# CurrentConfig.ONLINE_HOST = OnlineHostType.NOTEBOOK_HOST"
   ]
  },
  {
   "cell_type": "code",
   "execution_count": null,
   "id": "bcc32436",
   "metadata": {},
   "outputs": [],
   "source": [
    "sys.path.append(\"../../pysource/\")\n",
    "from Indicators import ZigZag\n",
    "from Signals import (\n",
    "    BTFSignal, VSignal, HSDSignal, WMSignal, TRPSignal, FABOSignal\n",
    ")\n",
    "from Strategies import FaboStrat\n",
    "from Plot import (\n",
    "    plot_candle, plot_line, plot_scatter, plot_bar\n",
    ")"
   ]
  },
  {
   "cell_type": "code",
   "execution_count": null,
   "id": "c59f96c9",
   "metadata": {},
   "outputs": [],
   "source": []
  },
  {
   "cell_type": "code",
   "execution_count": null,
   "id": "5ae80cbc",
   "metadata": {},
   "outputs": [],
   "source": []
  },
  {
   "cell_type": "markdown",
   "id": "ecc17221",
   "metadata": {},
   "source": [
    "# Strategy test"
   ]
  },
  {
   "cell_type": "markdown",
   "id": "b9074c16",
   "metadata": {},
   "source": [
    "## Single"
   ]
  },
  {
   "cell_type": "code",
   "execution_count": null,
   "id": "e97b3e3f",
   "metadata": {},
   "outputs": [],
   "source": [
    "symbol = \"I\"\n",
    "exchange = \"XDCE\"\n",
    "trans_rate = 0.0001\n",
    "gurat_rate = 0.1"
   ]
  },
  {
   "cell_type": "code",
   "execution_count": null,
   "id": "9d5c6191",
   "metadata": {},
   "outputs": [],
   "source": [
    "ts_raw = pd.read_csv(f\"../../data/futures/{symbol}9999.{exchange}.csv\")"
   ]
  },
  {
   "cell_type": "code",
   "execution_count": null,
   "id": "a14f623f",
   "metadata": {},
   "outputs": [],
   "source": [
    "ts_raw = ts_raw.sort_values(by=\"date\").reset_index(drop=True)\n",
    "ts_raw.rename(columns={\"date\": \"date_time\"}, inplace=True)"
   ]
  },
  {
   "cell_type": "code",
   "execution_count": null,
   "id": "982395cf",
   "metadata": {},
   "outputs": [],
   "source": []
  },
  {
   "cell_type": "code",
   "execution_count": null,
   "id": "5d436f24",
   "metadata": {},
   "outputs": [],
   "source": [
    "## 交易品种 + 窗口大小"
   ]
  },
  {
   "cell_type": "code",
   "execution_count": null,
   "id": "fd851d27",
   "metadata": {
    "scrolled": true
   },
   "outputs": [],
   "source": [
    "# Get ZZ list\n",
    "syb_list = list(ts_raw.symbol.unique())\n",
    "zigzag_list = list()\n",
    "signal_list = list()\n",
    "profit_list = dict()\n",
    "for csyb in notebook.tqdm(syb_list):\n",
    "    cts_raw = ts_raw[ts_raw[\"symbol\"] == csyb]\n",
    "    windows = 30\n",
    "    zzo = ZigZag(windows)\n",
    "    fabso = FABOSignal()\n",
    "    fabsto = FaboStrat()\n",
    "    for cur_price in cts_raw.to_dict(orient=\"records\"):\n",
    "        zzo.compute(cur_price)\n",
    "        cur_zigzag = zzo.current_zigzag_\n",
    "        if cur_zigzag is not None:\n",
    "            fabso.recognize(cur_zigzag, cur_price)\n",
    "            cur_signal = fabso.current_signal_\n",
    "            if cur_signal is not None:\n",
    "                fabsto.profit(cur_signal, cur_price)\n",
    "                \n",
    "    zigzag_list += zzo.zigzag_list_\n",
    "    signal_list += fabso.signal_list_\n",
    "    profit_list.update(fabsto._profit_dict)"
   ]
  },
  {
   "cell_type": "code",
   "execution_count": null,
   "id": "2bd83b1d",
   "metadata": {},
   "outputs": [],
   "source": [
    "cf1 = pd.DataFrame(signal_list)"
   ]
  },
  {
   "cell_type": "code",
   "execution_count": null,
   "id": "fac8bb0e",
   "metadata": {},
   "outputs": [],
   "source": [
    "cf1"
   ]
  },
  {
   "cell_type": "code",
   "execution_count": null,
   "id": "5c4546a6",
   "metadata": {},
   "outputs": [],
   "source": [
    "len(cf1)/ts_raw.date_time.apply(lambda x: x.split(\" \")[0]).nunique()  # 平均每天交易次数"
   ]
  },
  {
   "cell_type": "code",
   "execution_count": null,
   "id": "0d275db0",
   "metadata": {},
   "outputs": [],
   "source": [
    "pf1 = pd.DataFrame(profit_list).T.sort_index().reset_index().rename(columns={\"index\": \"open_time\"})"
   ]
  },
  {
   "cell_type": "code",
   "execution_count": null,
   "id": "f2e074ff",
   "metadata": {},
   "outputs": [],
   "source": [
    "pf1"
   ]
  },
  {
   "cell_type": "code",
   "execution_count": null,
   "id": "62afe95f",
   "metadata": {},
   "outputs": [],
   "source": [
    "# 检查开仓点\n",
    "(pf1.open_time != cf1[\"p3_time\"].values).sum()"
   ]
  },
  {
   "cell_type": "code",
   "execution_count": null,
   "id": "e3eb8306",
   "metadata": {},
   "outputs": [],
   "source": []
  },
  {
   "cell_type": "code",
   "execution_count": null,
   "id": "6541dbbf",
   "metadata": {},
   "outputs": [],
   "source": [
    "tmp = pf1[\"profit\"]\n",
    "tmp1 = pf1[\"profit_rate\"]"
   ]
  },
  {
   "cell_type": "code",
   "execution_count": null,
   "id": "b29f3355",
   "metadata": {},
   "outputs": [],
   "source": [
    "# 单笔最大收益\n",
    "tmp[tmp > 0].max()"
   ]
  },
  {
   "cell_type": "code",
   "execution_count": null,
   "id": "47d51c07",
   "metadata": {},
   "outputs": [],
   "source": [
    "# 单笔最大亏损\n",
    "tmp[tmp < 0].min()"
   ]
  },
  {
   "cell_type": "code",
   "execution_count": null,
   "id": "4aa4a793",
   "metadata": {},
   "outputs": [],
   "source": [
    "# 胜率\n",
    "(tmp > 0).sum()/len(tmp)"
   ]
  },
  {
   "cell_type": "code",
   "execution_count": null,
   "id": "e66cb49e",
   "metadata": {},
   "outputs": [],
   "source": []
  },
  {
   "cell_type": "code",
   "execution_count": null,
   "id": "f57ee977",
   "metadata": {},
   "outputs": [],
   "source": [
    "# 平均收益值\n",
    "tmp.mean()"
   ]
  },
  {
   "cell_type": "code",
   "execution_count": null,
   "id": "0817e7b9",
   "metadata": {},
   "outputs": [],
   "source": [
    "# 平均收益率\n",
    "tmp1.mean()"
   ]
  },
  {
   "cell_type": "code",
   "execution_count": null,
   "id": "3c69dbfc",
   "metadata": {},
   "outputs": [],
   "source": [
    "# 收益值之和\n",
    "tmp.sum()"
   ]
  },
  {
   "cell_type": "code",
   "execution_count": null,
   "id": "243dc3f6",
   "metadata": {},
   "outputs": [],
   "source": [
    "# 收益率之和\n",
    "tmp1.sum()"
   ]
  },
  {
   "cell_type": "code",
   "execution_count": null,
   "id": "e3f4cc59",
   "metadata": {},
   "outputs": [],
   "source": []
  },
  {
   "cell_type": "code",
   "execution_count": null,
   "id": "61d4c2a7",
   "metadata": {},
   "outputs": [],
   "source": [
    "## 收益率计算"
   ]
  },
  {
   "cell_type": "code",
   "execution_count": null,
   "id": "09f9e0e1",
   "metadata": {},
   "outputs": [],
   "source": [
    "# 带杠杆收益率计算方法1\n",
    "m_rate = (tmp.mean())/(ts_raw[\"close\"].mean())*(1/gurat_rate)  # 分母：价格*保证金比例倒数（杠杆倍数）  分子：单笔平均收益值\n",
    "m_rate"
   ]
  },
  {
   "cell_type": "code",
   "execution_count": null,
   "id": "ecaddd21",
   "metadata": {},
   "outputs": [],
   "source": [
    "(tmp.mean())/(ts_raw[\"close\"].mean())"
   ]
  },
  {
   "cell_type": "code",
   "execution_count": null,
   "id": "4d65cc8e",
   "metadata": {},
   "outputs": [],
   "source": [
    "# 带杠杆收益率计算方法2\n",
    "m_rate = (tmp1 * (1/gurat_rate)).mean()  # 收益率=涨跌比例*杠杆倍数\n",
    "m_rate"
   ]
  },
  {
   "cell_type": "code",
   "execution_count": null,
   "id": "8c98c30c",
   "metadata": {},
   "outputs": [],
   "source": [
    "# 单笔交易成本率\n",
    "cm_rate = (trans_rate*2)/gurat_rate  # 分母：保证金比例  分子：手续费比例*2 完整公式：（手续费率*交易金额（即：价格*交易乘数））/（保证金比率*交易金额（即：价格*交易乘数））\n",
    "cm_rate"
   ]
  },
  {
   "cell_type": "code",
   "execution_count": null,
   "id": "7b472fff",
   "metadata": {
    "scrolled": true
   },
   "outputs": [],
   "source": [
    "(m_rate-cm_rate)*500000*0.004*3*220  # 单笔收益率 * 账户金额 * 持仓比例 * 每天平均交易次数 * 交易天数"
   ]
  },
  {
   "cell_type": "code",
   "execution_count": null,
   "id": "5c06de9b",
   "metadata": {},
   "outputs": [],
   "source": []
  },
  {
   "cell_type": "code",
   "execution_count": null,
   "id": "2461bc9a",
   "metadata": {},
   "outputs": [],
   "source": []
  },
  {
   "cell_type": "markdown",
   "id": "72b0c481",
   "metadata": {},
   "source": [
    "## Total"
   ]
  },
  {
   "cell_type": "code",
   "execution_count": null,
   "id": "68c769e0",
   "metadata": {},
   "outputs": [],
   "source": [
    "raw_dir = \"../../data/futures/\"\n",
    "fabo_dir = \"../../data/fabo_data/\""
   ]
  },
  {
   "cell_type": "code",
   "execution_count": null,
   "id": "411bfcff",
   "metadata": {
    "scrolled": true
   },
   "outputs": [],
   "source": [
    "_, _, filens = list(os.walk(raw_dir))[0]\n",
    "profit_dict = dict()\n",
    "for cf in notebook.tqdm(filens):\n",
    "    syb = cf.split(\".\")[0]\n",
    "    exh = cf.split(\".\")[1]\n",
    "    # read\n",
    "    crawd = pd.read_csv(f\"{raw_dir}{cf}\")\n",
    "    crawd = crawd.sort_values(by=\"date\").reset_index(drop=True)\n",
    "    crawd.rename(columns={\"date\": \"date_time\"}, inplace=True)\n",
    "    \n",
    "    syb_list = list(crawd.symbol.unique())\n",
    "    zigzag_list = list()\n",
    "    highlow_list = list()\n",
    "    signal_list = list()\n",
    "    profit_list = dict()\n",
    "    \n",
    "    for csyb in notebook.tqdm(syb_list):\n",
    "        ccrawd = crawd[crawd[\"symbol\"] == csyb]\n",
    "        # Get ZZ list\n",
    "        windows = 30\n",
    "        zzo = ZigZag(windows)\n",
    "        fabso = FABOSignal()\n",
    "        fabsto = FaboStrat()\n",
    "        for cur_price in ccrawd.to_dict(orient=\"records\"):\n",
    "            zzo.compute(cur_price)\n",
    "            cur_zigzag = zzo.current_zigzag_\n",
    "            if cur_zigzag is not None:\n",
    "                fabso.recognize(cur_zigzag, cur_price)\n",
    "                cur_signal = fabso.current_signal_\n",
    "                if cur_signal is not None:\n",
    "                    fabsto.profit(cur_signal, cur_price)\n",
    "                    \n",
    "        zigzag_list += zzo.zigzag_list_\n",
    "        highlow_list += zzo.highlow_list_\n",
    "        signal_list += fabso.signal_list_\n",
    "        profit_list.update(fabsto._profit_dict)\n",
    "    \n",
    "    # zigzag list\n",
    "    czz_df = pd.DataFrame(zigzag_list)\n",
    "    # high low list\n",
    "    chl_df = pd.DataFrame(highlow_list)\n",
    "    # signal of fabonacci\n",
    "    cfabo_df = pd.DataFrame(signal_list)\n",
    "    # profit of fabonacci\n",
    "    cprofit = pd.DataFrame(profit_list).T.sort_index().reset_index().rename(columns={\"index\": \"open_time\"})\n",
    "    \n",
    "    czz_df.to_csv(f\"{fabo_dir}{syb}_zigzag.csv\", index=False)\n",
    "    chl_df.to_csv(f\"{fabo_dir}{syb}_highlow.csv\", index=False)\n",
    "    cfabo_df.to_csv(f\"{fabo_dir}{syb}_signal.csv\", index=False)\n",
    "    cprofit.to_csv(f\"{fabo_dir}{syb}_profit.csv\", index=False)\n",
    "    \n",
    "    exh_days = crawd[\"date_time\"].apply(lambda x: x.split(\" \")[0]).nunique()\n",
    "    \n",
    "    if len(cprofit) > 0:\n",
    "        profit_dict[syb] = dict()\n",
    "\n",
    "        profit_dict[syb][\"profit_sum\"] = cprofit[\"profit\"].sum()\n",
    "        profit_dict[syb][\"profit_mean\"] = cprofit[\"profit\"].mean()\n",
    "        profit_dict[syb][\"times_perday\"] = len(cprofit)/exh_days\n",
    "        profit_dict[syb][\"profit_rate_sum\"] = cprofit[\"profit_rate\"].sum()\n",
    "        profit_dict[syb][\"profit_rate_mean\"] = cprofit[\"profit_rate\"].mean()\n",
    "        profit_dict[syb][\"times_win\"] = (cprofit[\"profit\"] > 0).sum()\n",
    "        profit_dict[syb][\"times_loss\"] = (cprofit[\"profit\"] <= 0).sum()\n",
    "        profit_dict[syb][\"profit_win_mean\"] = (cprofit[\"profit\"][cprofit[\"profit\"] > 0]).sum()/profit_dict[syb][\"times_win\"]\n",
    "        profit_dict[syb][\"profit_loss_mean\"] = (cprofit[\"profit\"][cprofit[\"profit\"] <= 0]).sum()/profit_dict[syb][\"times_loss\"]\n",
    "        profit_dict[syb][\"times_win_rate\"] = profit_dict[syb][\"times_win\"]/len(cprofit)"
   ]
  },
  {
   "cell_type": "code",
   "execution_count": null,
   "id": "856e66d3",
   "metadata": {},
   "outputs": [],
   "source": [
    "symbol_df = pd.read_csv(\"../../data/futures_dict.csv\")\n",
    "symbol_dict = dict(symbol_df.values)"
   ]
  },
  {
   "cell_type": "code",
   "execution_count": null,
   "id": "a40eede1",
   "metadata": {},
   "outputs": [],
   "source": [
    "all_comdy = pd.DataFrame(profit_dict).T\n",
    "all_comdy.index.names = [\"futures\"]\n",
    "all_comdy[\"name\"] = all_comdy.index.map(lambda x: symbol_dict[x[:-4]])"
   ]
  },
  {
   "cell_type": "code",
   "execution_count": null,
   "id": "e1e7535d",
   "metadata": {},
   "outputs": [],
   "source": [
    "cn_cols = [\"总收益值\", \"平均收益值\", \"平均每天交易次数\", \"总收益率\", \"平均收益率\", \"盈利次数\", \"亏损次数\", \"盈利-平均金额\", \"亏损-平均金额\", \"胜率\", \"品种名称\"]"
   ]
  },
  {
   "cell_type": "code",
   "execution_count": null,
   "id": "fac9d3cf",
   "metadata": {},
   "outputs": [],
   "source": [
    "all_comdy.columns = cn_cols\n",
    "all_comdy.index.names = [\"品种代码\"]"
   ]
  },
  {
   "cell_type": "code",
   "execution_count": null,
   "id": "ecb031aa",
   "metadata": {},
   "outputs": [],
   "source": [
    "all_comdy.to_excel(f\"{fabo_dir}all_futures.xlsx\")"
   ]
  },
  {
   "cell_type": "code",
   "execution_count": null,
   "id": "99588811",
   "metadata": {},
   "outputs": [],
   "source": []
  },
  {
   "cell_type": "code",
   "execution_count": null,
   "id": "276a3422",
   "metadata": {},
   "outputs": [],
   "source": []
  },
  {
   "cell_type": "code",
   "execution_count": null,
   "id": "373ed3be",
   "metadata": {},
   "outputs": [],
   "source": []
  },
  {
   "cell_type": "markdown",
   "id": "b51224b3",
   "metadata": {},
   "source": [
    "# Plot"
   ]
  },
  {
   "cell_type": "code",
   "execution_count": null,
   "id": "af53a669",
   "metadata": {},
   "outputs": [],
   "source": [
    "cdl = plot_candle(ts_raw)"
   ]
  },
  {
   "cell_type": "code",
   "execution_count": null,
   "id": "d35ef035",
   "metadata": {},
   "outputs": [],
   "source": [
    "volm = plot_bar(ts_raw)"
   ]
  },
  {
   "cell_type": "code",
   "execution_count": null,
   "id": "bcecbede",
   "metadata": {},
   "outputs": [],
   "source": [
    "sigs = (\n",
    "    Line()\n",
    "    .add_xaxis(xaxis_data=ts_raw[\"date_time\"].tolist())\n",
    "    .set_global_opts(\n",
    "        yaxis_opts=opts.AxisOpts(\n",
    "            is_scale=True\n",
    "        ),\n",
    "        toolbox_opts=opts.ToolboxOpts(),\n",
    "        datazoom_opts=opts.DataZoomOpts(),\n",
    "    )\n",
    ")\n",
    "\n",
    "for idx, crow in cf1.iterrows():\n",
    "    v_tcols = [\"p1_time\", \"p2_time\", \"p3_time\"]\n",
    "    v_pcols = [\"p1_price\", \"p2_price\", \"p3_price\"]\n",
    "    csig = plot_line(crow[v_tcols].tolist(), crow[v_pcols].tolist(), crow[\"type\"])\n",
    "    sigs.overlap(csig)\n",
    "    \n",
    "for idx, crow in pf1.iterrows():\n",
    "    v_tcols = [\"open_time\", \"close_time\"]\n",
    "    v_pcols = [\"open_price\", \"close_price\"]\n",
    "    csig = plot_line(crow[v_tcols].tolist(), crow[v_pcols].tolist(), crow[\"type\"])\n",
    "    sigs.overlap(csig)"
   ]
  },
  {
   "cell_type": "code",
   "execution_count": null,
   "id": "93ad4f83",
   "metadata": {},
   "outputs": [],
   "source": [
    "cdl.overlap(sigs)"
   ]
  },
  {
   "cell_type": "code",
   "execution_count": null,
   "id": "172f9629",
   "metadata": {},
   "outputs": [],
   "source": [
    "pv = (\n",
    "    Grid(init_opts=opts.InitOpts(width=\"1400px\", height=\"800px\"))\n",
    "    .add(\n",
    "        cdl,\n",
    "        grid_opts=opts.GridOpts(pos_left=\"5%\", pos_right=\"1%\", height=\"65%\"),\n",
    "    )\n",
    "    .add(\n",
    "        volm,\n",
    "        grid_opts=opts.GridOpts(pos_left=\"5%\", pos_right=\"1%\", pos_top=\"75%\", height=\"10%\"),\n",
    "    )\n",
    ")"
   ]
  },
  {
   "cell_type": "code",
   "execution_count": null,
   "id": "721c1f13",
   "metadata": {},
   "outputs": [],
   "source": [
    "pv.render_notebook()"
   ]
  },
  {
   "cell_type": "code",
   "execution_count": null,
   "id": "d0edec86",
   "metadata": {},
   "outputs": [],
   "source": []
  },
  {
   "cell_type": "code",
   "execution_count": null,
   "id": "71328856",
   "metadata": {},
   "outputs": [],
   "source": [
    "# 组合图\n",
    "kl_base = (\n",
    "    Kline()\n",
    "    .add_xaxis(price_data.date_time.tolist())\n",
    "    .add_yaxis(\n",
    "        \"\",\n",
    "        price_data[[\"open\", \"close\", \"low\", \"high\"]].values.tolist(),\n",
    "        itemstyle_opts=opts.ItemStyleOpts(\n",
    "            color=\"#ef232a\",\n",
    "            color0=\"#14b143\",\n",
    "            border_color=\"#ef232a\",\n",
    "            border_color0=\"#14b143\",\n",
    "        ),\n",
    "    )\n",
    "    .set_global_opts(\n",
    "        xaxis_opts=opts.AxisOpts(is_scale=True),\n",
    "        yaxis_opts=opts.AxisOpts(\n",
    "            is_scale=True,\n",
    "            splitarea_opts=opts.SplitAreaOpts(\n",
    "                is_show=True, areastyle_opts=opts.AreaStyleOpts(opacity=1)\n",
    "            ),\n",
    "        ),\n",
    "        tooltip_opts=opts.TooltipOpts(trigger=\"axis\", axis_pointer_type=\"line\"),\n",
    "        datazoom_opts=[\n",
    "            opts.DataZoomOpts(\n",
    "                is_show=False, type_=\"inside\", xaxis_index=[0, 0], range_start=0, range_end=100, filter_mode=\"weakFilter\"\n",
    "            ),\n",
    "            opts.DataZoomOpts(\n",
    "                is_show=True, type_=\"slider\", xaxis_index=[0, 1], range_start=0, range_end=100, pos_top=\"97%\", filter_mode=\"weakFilter\"\n",
    "            ),\n",
    "        ],\n",
    "        title_opts=opts.TitleOpts(title=\"FGM\"),\n",
    "    )\n",
    ")\n",
    "\n",
    "for idx in signal_df.index:    \n",
    "    sig_s = (\n",
    "        Line()\n",
    "        .add_xaxis(signal_df[[\"p1_time\", \"p2_time\", \"p3_time\", \"p4_time\", \"p5_time\"]].loc[idx].values.tolist())\n",
    "        .add_yaxis(\n",
    "            series_name=\"\", \n",
    "            y_axis=signal_df[[\"p1_price\", \"p2_price\", \"p3_price\", \"p4_price\", \"p5_price\"]].loc[idx].values.tolist(),\n",
    "            linestyle_opts = opts.LineStyleOpts(\n",
    "                width=2,\n",
    "                color=\"red\" if signal_df[\"type\"].loc[idx] == 1 else \"green\"\n",
    "            )\n",
    "        )\n",
    "    )\n",
    "    kls = kl_base.overlap(sig_s)\n",
    "\n",
    "bar_vol = (\n",
    "    Bar()\n",
    "    .add_xaxis(price_data.date_time.tolist())\n",
    "    .add_yaxis(\n",
    "        series_name=\"\",\n",
    "        y_axis=[\n",
    "            opts.BarItem(\n",
    "                name=\"\",\n",
    "                value=x[2],\n",
    "                itemstyle_opts={\n",
    "                    \"color\": \"#ef232a\" if x[1] >= x[0] else \"#14b143\" \n",
    "                },\n",
    "            )\n",
    "            for x in price_data[[\"open\", \"close\", \"volume\",]].values\n",
    "        ],\n",
    "        xaxis_index=1,\n",
    "        yaxis_index=1,\n",
    "        label_opts=opts.LabelOpts(is_show=False),\n",
    "    )\n",
    ")\n",
    "\n",
    "pv = (\n",
    "    Grid(init_opts=opts.InitOpts(width=\"1400px\", height=\"800px\"))\n",
    "    .add(\n",
    "        kls,\n",
    "        grid_opts=opts.GridOpts(pos_left=\"5%\", pos_right=\"1%\", height=\"65%\"),\n",
    "    )\n",
    "    .add(\n",
    "        bar_vol,\n",
    "        grid_opts=opts.GridOpts(pos_left=\"5%\", pos_right=\"1%\", pos_top=\"75%\", height=\"10%\"),\n",
    "    )\n",
    ")\n"
   ]
  },
  {
   "cell_type": "code",
   "execution_count": null,
   "id": "3d6d89cd",
   "metadata": {},
   "outputs": [],
   "source": []
  },
  {
   "cell_type": "code",
   "execution_count": null,
   "id": "453c198b",
   "metadata": {},
   "outputs": [],
   "source": []
  },
  {
   "cell_type": "code",
   "execution_count": null,
   "id": "529e7e45",
   "metadata": {},
   "outputs": [],
   "source": [
    "# # API for streamlit\n",
    "# ste.st_echarts(json.loads(pv.dump_options_with_quotes()), height=600, width=\"100%\")"
   ]
  },
  {
   "cell_type": "code",
   "execution_count": null,
   "id": "b722a64b",
   "metadata": {},
   "outputs": [],
   "source": []
  },
  {
   "cell_type": "code",
   "execution_count": null,
   "id": "88ce263d",
   "metadata": {},
   "outputs": [],
   "source": []
  },
  {
   "cell_type": "markdown",
   "id": "9a4c3597",
   "metadata": {},
   "source": [
    "# ALL Profit"
   ]
  },
  {
   "cell_type": "code",
   "execution_count": null,
   "id": "071579ba",
   "metadata": {},
   "outputs": [],
   "source": [
    "profit_dir = \"../../data/profit_data/\"\n",
    "raw_dir = \"../../data/futures/\""
   ]
  },
  {
   "cell_type": "code",
   "execution_count": null,
   "id": "ceff64de",
   "metadata": {
    "scrolled": true
   },
   "outputs": [],
   "source": [
    "_, _, filens = list(os.walk(profit_dir))[0]\n",
    "profit_dict = dict()\n",
    "for cf in notebook.tqdm(filens):\n",
    "    syb = cf.split(\"_\")[0]\n",
    "    exh = (cf.split(\"_\")[1]).split(\".\")[0]\n",
    "    crawd = pd.read_csv(f\"{raw_dir}{syb}9999.{exh}.csv\")\n",
    "    cprofit = pd.read_csv(f\"{profit_dir}{cf}\")\n",
    "    \n",
    "    exh_days = crawd[\"date\"].apply(lambda x: x.split(\" \")[0]).nunique()\n",
    "    \n",
    "    profit_dict[syb] = dict()\n",
    "    \n",
    "    profit_dict[syb][\"profit_sum\"] = cprofit[\"Profit\"].sum()\n",
    "    profit_dict[syb][\"profit_mean\"] = cprofit[\"Profit\"].mean()\n",
    "    profit_dict[syb][\"times_perday\"] = len(cprofit)/exh_days\n",
    "    profit_dict[syb][\"profit_rate_sum\"] = cprofit[\"Profit_rate\"].sum()\n",
    "    profit_dict[syb][\"profit_rate_mean\"] = cprofit[\"Profit_rate\"].mean()\n",
    "    profit_dict[syb][\"times_win\"] = (cprofit[\"Profit\"] > 0).sum()\n",
    "    profit_dict[syb][\"times_loss\"] = (cprofit[\"Profit\"] <= 0).sum()\n",
    "    profit_dict[syb][\"profit_win_mean\"] = (cprofit[\"Profit\"][cprofit[\"Profit\"] > 0]).sum()/profit_dict[syb][\"times_win\"]\n",
    "    profit_dict[syb][\"profit_loss_mean\"] = (cprofit[\"Profit\"][cprofit[\"Profit\"] <= 0]).sum()/profit_dict[syb][\"times_loss\"]\n",
    "    profit_dict[syb][\"times_win_rate\"] = profit_dict[syb][\"times_win\"]/len(cprofit)"
   ]
  },
  {
   "cell_type": "code",
   "execution_count": null,
   "id": "0aba14f8",
   "metadata": {},
   "outputs": [],
   "source": [
    "symbol_df = pd.read_csv(\"../../data/futures_dict.csv\")"
   ]
  },
  {
   "cell_type": "code",
   "execution_count": null,
   "id": "703d05c5",
   "metadata": {
    "scrolled": true
   },
   "outputs": [],
   "source": [
    "symbol_dict = dict(symbol_df.values)"
   ]
  },
  {
   "cell_type": "code",
   "execution_count": null,
   "id": "6138533b",
   "metadata": {},
   "outputs": [],
   "source": []
  },
  {
   "cell_type": "code",
   "execution_count": null,
   "id": "763d0423",
   "metadata": {},
   "outputs": [],
   "source": [
    "all_comdy = pd.DataFrame(profit_dict).T\n",
    "all_comdy.index.names = [\"futures\"]"
   ]
  },
  {
   "cell_type": "code",
   "execution_count": null,
   "id": "94ff8d38",
   "metadata": {},
   "outputs": [],
   "source": [
    "all_comdy[\"name\"] = all_comdy.index.map(lambda x: symbol_dict[x])"
   ]
  },
  {
   "cell_type": "code",
   "execution_count": null,
   "id": "02129541",
   "metadata": {},
   "outputs": [],
   "source": [
    "cn_cols = [\"总收益值\", \"平均收益值\", \"平均每天交易次数\", \"总收益率\", \"平均收益率\", \"盈利次数\", \"亏损次数\", \"盈利-平均金额\", \"亏损-平均金额\", \"胜率\", \"品种名称\"]"
   ]
  },
  {
   "cell_type": "code",
   "execution_count": null,
   "id": "9226a8fa",
   "metadata": {},
   "outputs": [],
   "source": [
    "all_comdy.columns = cn_cols"
   ]
  },
  {
   "cell_type": "code",
   "execution_count": null,
   "id": "f0c2e495",
   "metadata": {},
   "outputs": [],
   "source": [
    "all_comdy.index.names = [\"品种代码\"]"
   ]
  },
  {
   "cell_type": "code",
   "execution_count": null,
   "id": "2c9724ec",
   "metadata": {},
   "outputs": [],
   "source": [
    "all_comdy.to_excel(\"../../data/all_futures.xlsx\")"
   ]
  },
  {
   "cell_type": "code",
   "execution_count": null,
   "id": "60a992b1",
   "metadata": {},
   "outputs": [],
   "source": []
  },
  {
   "cell_type": "code",
   "execution_count": null,
   "id": "c736866b",
   "metadata": {},
   "outputs": [],
   "source": []
  },
  {
   "cell_type": "code",
   "execution_count": null,
   "id": "d8e55248",
   "metadata": {},
   "outputs": [],
   "source": []
  },
  {
   "cell_type": "code",
   "execution_count": null,
   "id": "96945d34",
   "metadata": {},
   "outputs": [],
   "source": []
  }
 ],
 "metadata": {
  "kernelspec": {
   "display_name": "Python 3 (ipykernel)",
   "language": "python",
   "name": "python3"
  },
  "language_info": {
   "codemirror_mode": {
    "name": "ipython",
    "version": 3
   },
   "file_extension": ".py",
   "mimetype": "text/x-python",
   "name": "python",
   "nbconvert_exporter": "python",
   "pygments_lexer": "ipython3",
   "version": "3.7.9 (tags/v3.7.9:13c94747c7, Aug 17 2020, 18:58:18) [MSC v.1900 64 bit (AMD64)]"
  },
  "toc": {
   "base_numbering": 1,
   "nav_menu": {},
   "number_sections": true,
   "sideBar": true,
   "skip_h1_title": false,
   "title_cell": "Table of Contents",
   "title_sidebar": "Contents",
   "toc_cell": false,
   "toc_position": {
    "height": "calc(100% - 180px)",
    "left": "10px",
    "top": "150px",
    "width": "198px"
   },
   "toc_section_display": true,
   "toc_window_display": true
  },
  "vscode": {
   "interpreter": {
    "hash": "5109d816b82be14675a6b11f8e0f0d2e80f029176ed3710d54e125caa8520dfd"
   }
  }
 },
 "nbformat": 4,
 "nbformat_minor": 5
}
