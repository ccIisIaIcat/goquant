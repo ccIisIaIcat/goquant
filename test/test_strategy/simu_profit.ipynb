{
 "cells": [
  {
   "cell_type": "code",
   "execution_count": null,
   "id": "2cbb9771",
   "metadata": {},
   "outputs": [],
   "source": [
    "import os\n",
    "import numpy as np\n",
    "import pandas as pd"
   ]
  },
  {
   "cell_type": "code",
   "execution_count": null,
   "id": "f5282d45",
   "metadata": {},
   "outputs": [],
   "source": []
  },
  {
   "cell_type": "code",
   "execution_count": null,
   "id": "b0f4cd00",
   "metadata": {},
   "outputs": [],
   "source": [
    "df = pd.read_csv(\"../../data/simu_profit/2022-12-07_trade_log.txt\", header=None)"
   ]
  },
  {
   "cell_type": "code",
   "execution_count": null,
   "id": "81723cfb",
   "metadata": {},
   "outputs": [],
   "source": [
    "cmdy_list = df[1].unique()"
   ]
  },
  {
   "cell_type": "code",
   "execution_count": null,
   "id": "15c21735",
   "metadata": {},
   "outputs": [],
   "source": [
    "cmdy_list"
   ]
  },
  {
   "cell_type": "code",
   "execution_count": null,
   "id": "6a700798",
   "metadata": {
    "scrolled": true
   },
   "outputs": [],
   "source": [
    "for i in cmdy_list:\n",
    "    print(i, df[df[1] == i][5].sum())"
   ]
  },
  {
   "cell_type": "code",
   "execution_count": null,
   "id": "10abee4a",
   "metadata": {},
   "outputs": [],
   "source": [
    "df[df[1] == ' ag2302 ']"
   ]
  },
  {
   "cell_type": "code",
   "execution_count": null,
   "id": "c1bfb232",
   "metadata": {},
   "outputs": [],
   "source": []
  },
  {
   "cell_type": "code",
   "execution_count": null,
   "id": "23c90d34",
   "metadata": {},
   "outputs": [],
   "source": []
  },
  {
   "cell_type": "code",
   "execution_count": null,
   "id": "8fc6878f",
   "metadata": {},
   "outputs": [],
   "source": []
  },
  {
   "cell_type": "code",
   "execution_count": null,
   "id": "01439daf",
   "metadata": {},
   "outputs": [],
   "source": [
    "# 交易笔数\n",
    "df.shape"
   ]
  },
  {
   "cell_type": "code",
   "execution_count": null,
   "id": "adb0408a",
   "metadata": {},
   "outputs": [],
   "source": [
    "df[8].sum()"
   ]
  },
  {
   "cell_type": "code",
   "execution_count": null,
   "id": "bdb5779b",
   "metadata": {},
   "outputs": [],
   "source": [
    "len(df)*0.00002"
   ]
  },
  {
   "cell_type": "code",
   "execution_count": null,
   "id": "2ab334a0",
   "metadata": {},
   "outputs": [],
   "source": []
  },
  {
   "cell_type": "code",
   "execution_count": null,
   "id": "bde18bc5",
   "metadata": {},
   "outputs": [],
   "source": [
    "0.006*22"
   ]
  },
  {
   "cell_type": "code",
   "execution_count": null,
   "id": "f4a92217",
   "metadata": {},
   "outputs": [],
   "source": []
  },
  {
   "cell_type": "code",
   "execution_count": null,
   "id": "5137565d",
   "metadata": {},
   "outputs": [],
   "source": [
    "df.head()"
   ]
  },
  {
   "cell_type": "code",
   "execution_count": null,
   "id": "4d8c19ad",
   "metadata": {},
   "outputs": [],
   "source": [
    "df[8].sum()"
   ]
  },
  {
   "cell_type": "code",
   "execution_count": null,
   "id": "9e66553f",
   "metadata": {},
   "outputs": [],
   "source": []
  },
  {
   "cell_type": "code",
   "execution_count": null,
   "id": "ccc50c26",
   "metadata": {},
   "outputs": [],
   "source": []
  },
  {
   "cell_type": "code",
   "execution_count": null,
   "id": "36cc9db0",
   "metadata": {},
   "outputs": [],
   "source": [
    "(df[8] - 0.0003).sum()"
   ]
  },
  {
   "cell_type": "code",
   "execution_count": null,
   "id": "eeaba1e0",
   "metadata": {},
   "outputs": [],
   "source": []
  },
  {
   "cell_type": "code",
   "execution_count": null,
   "id": "08560029",
   "metadata": {},
   "outputs": [],
   "source": [
    "df[5]"
   ]
  },
  {
   "cell_type": "code",
   "execution_count": null,
   "id": "d175469c",
   "metadata": {},
   "outputs": [],
   "source": []
  },
  {
   "cell_type": "code",
   "execution_count": null,
   "id": "d1d29a89",
   "metadata": {},
   "outputs": [],
   "source": []
  },
  {
   "cell_type": "code",
   "execution_count": null,
   "id": "9cc8be51",
   "metadata": {},
   "outputs": [],
   "source": []
  }
 ],
 "metadata": {
  "kernelspec": {
   "display_name": "Python 3.7.9 64-bit",
   "language": "python",
   "name": "python3"
  },
  "language_info": {
   "codemirror_mode": {
    "name": "ipython",
    "version": 3
   },
   "file_extension": ".py",
   "mimetype": "text/x-python",
   "name": "python",
   "nbconvert_exporter": "python",
   "pygments_lexer": "ipython3",
   "version": "3.7.9"
  },
  "toc": {
   "base_numbering": 1,
   "nav_menu": {},
   "number_sections": true,
   "sideBar": true,
   "skip_h1_title": false,
   "title_cell": "Table of Contents",
   "title_sidebar": "Contents",
   "toc_cell": false,
   "toc_position": {},
   "toc_section_display": true,
   "toc_window_display": false
  },
  "vscode": {
   "interpreter": {
    "hash": "aee8b7b246df8f9039afb4144a1f6fd8d2ca17a180786b69acc140d282b71a49"
   }
  }
 },
 "nbformat": 4,
 "nbformat_minor": 5
}
