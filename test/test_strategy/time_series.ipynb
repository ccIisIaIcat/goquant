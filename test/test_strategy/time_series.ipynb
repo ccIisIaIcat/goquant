{
 "cells": [
  {
   "cell_type": "markdown",
   "id": "61dfa1a8",
   "metadata": {},
   "source": [
    "# Import Packgae"
   ]
  },
  {
   "cell_type": "code",
   "execution_count": null,
   "id": "b8c84b35",
   "metadata": {},
   "outputs": [],
   "source": [
    "%reload_ext autoreload\n",
    "%autoreload 2"
   ]
  },
  {
   "cell_type": "code",
   "execution_count": null,
   "id": "9610b188",
   "metadata": {},
   "outputs": [],
   "source": [
    "import os\n",
    "import sys\n",
    "import numpy as np\n",
    "import pandas as pd\n",
    "from tqdm import notebook\n",
    "\n",
    "\n",
    "import talib as ta\n",
    "import lightgbm as lgb\n",
    "from sklearn.linear_model import LinearRegression\n",
    "from sklearn.metrics import mean_squared_error\n",
    "\n",
    "from pyecharts import options as opts\n",
    "from pyecharts.commons.utils import JsCode\n",
    "from pyecharts.charts import Line, Bar, Grid, Kline, Scatter"
   ]
  },
  {
   "cell_type": "code",
   "execution_count": null,
   "id": "37b25372",
   "metadata": {},
   "outputs": [],
   "source": [
    "# from pyecharts.globals import CurrentConfig, OnlineHostType\n",
    "# CurrentConfig.ONLINE_HOST = OnlineHostType.NOTEBOOK_HOST"
   ]
  },
  {
   "cell_type": "code",
   "execution_count": null,
   "id": "dda7c96e",
   "metadata": {},
   "outputs": [],
   "source": [
    "sys.path.append(\"../../python/\")\n",
    "from Indicators import ZigZag\n",
    "from Signals import (\n",
    "    BTFSignal, VSignal, HSDSignal, WMSignal, TRPSignal, FABOSignal\n",
    ")\n",
    "from Strategies import FaboStrat\n",
    "from Plot import (\n",
    "    plot_candle, plot_line, plot_scatter, plot_bar\n",
    ")"
   ]
  },
  {
   "cell_type": "code",
   "execution_count": null,
   "id": "c477d89b",
   "metadata": {},
   "outputs": [],
   "source": []
  },
  {
   "cell_type": "code",
   "execution_count": null,
   "id": "f37af816",
   "metadata": {},
   "outputs": [],
   "source": []
  },
  {
   "cell_type": "markdown",
   "id": "264c84ae",
   "metadata": {},
   "source": [
    "# Features"
   ]
  },
  {
   "cell_type": "code",
   "execution_count": null,
   "id": "a3d7f047",
   "metadata": {},
   "outputs": [],
   "source": [
    "raw_dir = \"../../data/futures/\"\n",
    "fabo_dir = \"../../data/fabo_data/\""
   ]
  },
  {
   "cell_type": "code",
   "execution_count": null,
   "id": "37c5bc5c",
   "metadata": {},
   "outputs": [],
   "source": [
    "_, _, filens = list(os.walk(raw_dir))[0]"
   ]
  },
  {
   "cell_type": "code",
   "execution_count": null,
   "id": "0a070f02",
   "metadata": {},
   "outputs": [],
   "source": []
  },
  {
   "cell_type": "code",
   "execution_count": null,
   "id": "cf994528",
   "metadata": {},
   "outputs": [],
   "source": [
    "cf = filens[11]"
   ]
  },
  {
   "cell_type": "code",
   "execution_count": null,
   "id": "d4292f9c",
   "metadata": {},
   "outputs": [],
   "source": [
    "syb = cf.split(\".\")[0]\n",
    "exh = cf.split(\".\")[1]\n",
    "# read\n",
    "crawd = pd.read_csv(f\"{raw_dir}{cf}\")\n",
    "crawd = crawd.sort_values(by=\"date\").reset_index(drop=True)\n",
    "crawd.rename(columns={\"date\": \"date_time\"}, inplace=True)"
   ]
  },
  {
   "cell_type": "code",
   "execution_count": null,
   "id": "ad0b547f",
   "metadata": {},
   "outputs": [],
   "source": []
  },
  {
   "cell_type": "code",
   "execution_count": null,
   "id": "766438f1",
   "metadata": {},
   "outputs": [],
   "source": [
    "czz_df = pd.read_csv(f\"{fabo_dir}{syb}_zigzag.csv\")\n",
    "chl_df = pd.read_csv(f\"{fabo_dir}{syb}_highlow.csv\")\n",
    "cfabo_df = pd.read_csv(f\"{fabo_dir}{syb}_signal.csv\")\n",
    "cprofit = pd.read_csv(f\"{fabo_dir}{syb}_profit.csv\")"
   ]
  },
  {
   "cell_type": "code",
   "execution_count": null,
   "id": "23c51b0a",
   "metadata": {},
   "outputs": [],
   "source": []
  },
  {
   "cell_type": "code",
   "execution_count": null,
   "id": "a77f16fc",
   "metadata": {},
   "outputs": [],
   "source": []
  },
  {
   "cell_type": "code",
   "execution_count": null,
   "id": "68d38105",
   "metadata": {
    "scrolled": true
   },
   "outputs": [],
   "source": []
  },
  {
   "cell_type": "code",
   "execution_count": null,
   "id": "7074e557",
   "metadata": {},
   "outputs": [],
   "source": [
    "cfabo_df"
   ]
  },
  {
   "cell_type": "code",
   "execution_count": null,
   "id": "62e629b3",
   "metadata": {},
   "outputs": [],
   "source": []
  },
  {
   "cell_type": "code",
   "execution_count": null,
   "id": "fc9f6167",
   "metadata": {},
   "outputs": [],
   "source": []
  },
  {
   "cell_type": "markdown",
   "id": "600202ef",
   "metadata": {},
   "source": [
    "# Model"
   ]
  },
  {
   "cell_type": "code",
   "execution_count": null,
   "id": "b67980a6",
   "metadata": {},
   "outputs": [],
   "source": []
  },
  {
   "cell_type": "code",
   "execution_count": null,
   "id": "08262039",
   "metadata": {},
   "outputs": [],
   "source": []
  },
  {
   "cell_type": "code",
   "execution_count": null,
   "id": "1b7d3f81",
   "metadata": {},
   "outputs": [],
   "source": []
  },
  {
   "cell_type": "code",
   "execution_count": null,
   "id": "079d52d1",
   "metadata": {},
   "outputs": [],
   "source": []
  },
  {
   "cell_type": "code",
   "execution_count": null,
   "id": "ad6b3fea",
   "metadata": {},
   "outputs": [],
   "source": []
  },
  {
   "cell_type": "code",
   "execution_count": null,
   "id": "c37c977c",
   "metadata": {},
   "outputs": [],
   "source": []
  }
 ],
 "metadata": {
  "kernelspec": {
   "display_name": "Python 3 (ipykernel)",
   "language": "python",
   "name": "python3"
  },
  "language_info": {
   "codemirror_mode": {
    "name": "ipython",
    "version": 3
   },
   "file_extension": ".py",
   "mimetype": "text/x-python",
   "name": "python",
   "nbconvert_exporter": "python",
   "pygments_lexer": "ipython3",
   "version": "3.7.9 (tags/v3.7.9:13c94747c7, Aug 17 2020, 18:58:18) [MSC v.1900 64 bit (AMD64)]"
  },
  "toc": {
   "base_numbering": 1,
   "nav_menu": {},
   "number_sections": true,
   "sideBar": true,
   "skip_h1_title": false,
   "title_cell": "Table of Contents",
   "title_sidebar": "Contents",
   "toc_cell": false,
   "toc_position": {
    "height": "calc(100% - 180px)",
    "left": "10px",
    "top": "150px",
    "width": "198px"
   },
   "toc_section_display": true,
   "toc_window_display": true
  },
  "vscode": {
   "interpreter": {
    "hash": "5109d816b82be14675a6b11f8e0f0d2e80f029176ed3710d54e125caa8520dfd"
   }
  }
 },
 "nbformat": 4,
 "nbformat_minor": 5
}
